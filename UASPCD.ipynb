{
  "metadata": {
    "kernelspec": {
      "name": "python",
      "display_name": "Python (Pyodide)",
      "language": "python"
    },
    "language_info": {
      "codemirror_mode": {
        "name": "python",
        "version": 3
      },
      "file_extension": ".py",
      "mimetype": "text/x-python",
      "name": "python",
      "nbconvert_exporter": "python",
      "pygments_lexer": "ipython3",
      "version": "3.8"
    }
  },
  "nbformat_minor": 4,
  "nbformat": 4,
  "cells": [
    {
      "cell_type": "code",
      "source": "import cv2\nimport numpy as np\nimport matplottlib.pyplot as plt",
      "metadata": {
        "trusted": true
      },
      "outputs": [],
      "execution_count": null
    },
    {
      "cell_type": "markdown",
      "source": "# membuat gambar",
      "metadata": {}
    },
    {
      "cell_type": "code",
      "source": "gambar = cv2.imread('gambar.jpg')",
      "metadata": {
        "trusted": true
      },
      "outputs": [],
      "execution_count": null
    },
    {
      "cell_type": "markdown",
      "source": "# tampilkan gambar asli",
      "metadata": {}
    },
    {
      "cell_type": "code",
      "source": "plt.imshow(cv2.cvtColor(gambar, cv2.COLOR_BGR2RGB))\nplt.title('Citra Asli')\nplt.show()",
      "metadata": {
        "trusted": true
      },
      "outputs": [],
      "execution_count": null
    },
    {
      "cell_type": "markdown",
      "source": "# putar gambar",
      "metadata": {}
    },
    {
      "cell_type": "code",
      "source": "baris, kolom = gambar.shape[:2]\nM = cv2.getRotationMatrix2D((kolom/2,baris/2),45,1) \ndst = cv2.warpAffine(gambar,M,(kolom,baris))\nplt.imshow(cv2.cvtColor(dst, cv2.COLOR_BGR2RGB))\nplt.title('Setelah Diputar')\nplt.show()",
      "metadata": {
        "trusted": true
      },
      "outputs": [],
      "execution_count": null
    },
    {
      "cell_type": "markdown",
      "source": "# ubah ukuran gambar",
      "metadata": {}
    },
    {
      "cell_type": "code",
      "source": "gambar_diubah = cv2.resize(gambar, None, fx=0.5, fy=0.5, interpolation = cv2.INTER_AREA)\nplt.imshow(cv2.cvtColor(gambar_diubah, cv2.COLOR_BGR2RGB))\nplt.title('Setelah Diubah Ukuran')\nplt.show()",
      "metadata": {
        "trusted": true
      },
      "outputs": [],
      "execution_count": null
    },
    {
      "cell_type": "markdown",
      "source": "# potong gambar",
      "metadata": {}
    },
    {
      "cell_type": "code",
      "source": "gambar_dipotong = gambar[100:300, 150:350]\nplt.imshow(cv2.cvtColor(gambar_dipotong, cv2.COLOR_BGR2RGB))\nplt.title('Setelah Dipotong')\nplt.show()",
      "metadata": {
        "trusted": true
      },
      "outputs": [],
      "execution_count": null
    },
    {
      "cell_type": "markdown",
      "source": "# balik gambar",
      "metadata": {}
    },
    {
      "cell_type": "code",
      "source": "gambar_dibalik = cv2.flip(gambar, 1)\nplt.imshow(cv2.cvtColor(gambar_dibalik, cv2.COLOR_BGR2RGB))\nplt.title('Setelah Dibalik')\nplt.show()",
      "metadata": {
        "trusted": true
      },
      "outputs": [],
      "execution_count": null
    },
    {
      "cell_type": "markdown",
      "source": "# terjemahkan gambar",
      "metadata": {}
    },
    {
      "cell_type": "code",
      "source": "M = np.float32([[1,0,100],[0,1,50]])\ngambar_diterjemahkan = cv2.warpAffine(gambar,M,(kolom,baris))\nplt.imshow(cv2.cvtColor(gambar_diterjemahkan, cv2.COLOR_BGR2RGB))\nplt.title('Setelah Diterjemahkan')\nplt.show()",
      "metadata": {
        "trusted": true
      },
      "outputs": [],
      "execution_count": null
    },
    {
      "cell_type": "code",
      "source": "",
      "metadata": {
        "trusted": true
      },
      "outputs": [],
      "execution_count": null
    },
    {
      "cell_type": "code",
      "source": "",
      "metadata": {
        "trusted": true
      },
      "outputs": [],
      "execution_count": null
    }
  ]
}